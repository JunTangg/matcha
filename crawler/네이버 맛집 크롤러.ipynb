{
 "cells": [
  {
   "cell_type": "markdown",
   "metadata": {},
   "source": [
    "# 네이버 맛집 크롤링\n",
    "\n",
    "\n",
    "## 크롤링 사이트 \n",
    "\n",
    "https://store.naver.com/restaurants/list?bounds=127.0189674%3B37.4931153%3B127.0461162%3B37.5044717&query=%EB%A7%9B%EC%A7%91&sessionid=Jb0idF7A9JvBaVT%2BwKa0xBHv\n",
    "\n",
    "## 방법 \n",
    "\n",
    "1. 관련도순\n",
    "2. 클릭전 페이지 1개 항목 크롤링\n",
    "3. 클릭후 모든 정보 크롤링\n",
    "4. 다음 물건 크롤링\n",
    "5. 반복후 페이지 넘기기"
   ]
  },
  {
   "cell_type": "code",
   "execution_count": 4,
   "metadata": {},
   "outputs": [],
   "source": [
    "# selenium 설치\n",
    "# !pip install selenium"
   ]
  },
  {
   "cell_type": "code",
   "execution_count": 2,
   "metadata": {},
   "outputs": [],
   "source": [
    "import bs4\n",
    "import requests\n",
    "import time\n",
    "from selenium import webdriver\n",
    "from selenium.webdriver.support.ui import Select\n",
    "from selenium.webdriver.common.keys import Keys\n",
    "import re\n",
    "import requests as rq\n",
    "import pandas as pd\n",
    "import numpy as np\n",
    "\n",
    "import warnings\n",
    "warnings.filterwarnings('ignore')           # 성가신 warning은 off 해준다. \n",
    "\n",
    "import os"
   ]
  },
  {
   "cell_type": "code",
   "execution_count": 139,
   "metadata": {},
   "outputs": [],
   "source": [
    "# 웹 드라이버 가동 (네이버 플레이스)\n",
    "driver = webdriver.Chrome('chromedriver')\n",
    "url = 'https://store.naver.com/restaurants/list?query=%EB%A7%9B%EC%A7%91&sessionid=Jb0idF7A9JvBaVT%2BwKa0xBHv&sortingOrder=precision'\n",
    "driver.get(url)"
   ]
  },
  {
   "cell_type": "code",
   "execution_count": 26,
   "metadata": {},
   "outputs": [],
   "source": [
    "# 파일 최초 저장여부\n",
    "chk = False\n",
    "\n",
    "# IP차단 방지를 위한 딜레이\n",
    "delay_time = 1\n",
    "\n",
    "#(중간에 끊겼을때..)크롤링 시작페이지 지정\n",
    "start_page = 1\n",
    "\n"
   ]
  },
  {
   "cell_type": "code",
   "execution_count": 68,
   "metadata": {},
   "outputs": [],
   "source": [
    "def grepindex(reg_exp,my_text):\n",
    "    result = []\n",
    "    index_result = []\n",
    "    reg_exp_compiled = re.compile(reg_exp)\n",
    "    for i in range(len(my_text)):\n",
    "        if reg_exp_compiled.search(my_text[i]):\n",
    "            result.append(my_text[i])\n",
    "            index_result.append(i)\n",
    "    return index_result"
   ]
  },
  {
   "cell_type": "code",
   "execution_count": 93,
   "metadata": {},
   "outputs": [
    {
     "name": "stdout",
     "output_type": "stream",
     "text": [
      "에그드랍 역삼점샌드위치 311\n"
     ]
    }
   ],
   "source": [
    "# 가게 정보\n",
    "palce_info_outside = driver.find_elements_by_css_selector('#container > div.placemap_area > div.list_wrapper > div > div.list_area > ul > li')[18].text.split('\\n')\n",
    "# 가게 이름\n",
    "index = grepindex(\"^[A-T] \", palce_info_outside)[0]\n",
    "store_name = re.sub('^[A-T] ', '', palce_info_outside[index])\n",
    "# 리뷰수\n",
    "review = palce_info_outside[-1].split('10만원')[0].split('만원')[0].split('리뷰 ')[-1]\n",
    "print(store_name, review)"
   ]
  },
  {
   "cell_type": "code",
   "execution_count": 96,
   "metadata": {
    "scrolled": true
   },
   "outputs": [
    {
     "data": {
      "text/plain": [
       "['이미지 수',\n",
       " '8',\n",
       " 'R 노아베이커리 GFC점',\n",
       " '압구정3대빵집 역삼케이크 맛집 에서 만나는 노아베이커리',\n",
       " '리뷰 3561만원 대 (2인)']"
      ]
     },
     "execution_count": 96,
     "metadata": {},
     "output_type": "execute_result"
    }
   ],
   "source": [
    "driver.find_elements_by_css_selector('#container > div.placemap_area > div.list_wrapper > div > div.list_area > ul > li')[17].text.split('\\n')"
   ]
  },
  {
   "cell_type": "code",
   "execution_count": 119,
   "metadata": {},
   "outputs": [
    {
     "data": {
      "text/plain": [
       "'초밥,롤'"
      ]
     },
     "execution_count": 119,
     "metadata": {},
     "output_type": "execute_result"
    }
   ],
   "source": [
    "store = driver.find_elements_by_css_selector('#container > div.placemap_area > div.list_wrapper > div > div.list_area > ul > li')[0]\n",
    "store.find_element_by_css_selector('div > div > div.tit > span > span').text"
   ]
  },
  {
   "cell_type": "code",
   "execution_count": 94,
   "metadata": {},
   "outputs": [],
   "source": [
    "palce_info_outside = driver.find_elements_by_css_selector('#container > div.placemap_area > div.list_wrapper > div > div.list_area > ul > li')[18].text.split('\\n')"
   ]
  },
  {
   "cell_type": "code",
   "execution_count": 95,
   "metadata": {},
   "outputs": [
    {
     "data": {
      "text/plain": [
       "['이미지 수', '6', 'S 신동궁감자탕 역삼본점감자탕', '뼈숯불구이가 맛있는 신동궁감자탕', 'VJ특공대', '리뷰 171']"
      ]
     },
     "execution_count": 95,
     "metadata": {},
     "output_type": "execute_result"
    }
   ],
   "source": [
    "palce_info_outside"
   ]
  },
  {
   "cell_type": "code",
   "execution_count": 124,
   "metadata": {},
   "outputs": [],
   "source": [
    "data_dic = {\n",
    "    'Store_name': [],\n",
    "    'Category': [],\n",
    "    'Review': [],\n",
    "    'TV': [],\n",
    "}"
   ]
  },
  {
   "cell_type": "code",
   "execution_count": 125,
   "metadata": {},
   "outputs": [],
   "source": [
    "# 1개 클릭\n",
    "for i in range(1):\n",
    "    # 가게 정보 밖에서 가져올 수 있는 부분\n",
    "    palce_info_outside = driver.find_elements_by_css_selector('#container > div.placemap_area > div.list_wrapper > div > div.list_area > ul > li')[i].text.split('\\n')\n",
    "    # 가게 이름\n",
    "    index = grepindex(\"^[A-T] \", palce_info_outside)[0]\n",
    "    store_name = re.sub('^[A-T] ', '', palce_info_outside[index])\n",
    "    # 리뷰수\n",
    "    review = palce_info_outside[-1].split('10만원')[0].split('만원')[0].split('리뷰 ')[-1]\n",
    "    place = driver.find_elements_by_css_selector('#container > div.placemap_area > div.list_wrapper > div > div.list_area > ul > li')[i]\n",
    "    category = place.find_element_by_css_selector('div > div > div.tit > span > span').text\n",
    "    # TV출연 했으면\n",
    "    try:\n",
    "        tv = place.find_elements_by_css_selector(' div > div > div.txt.tv.ellp')[0].text\n",
    "    # 안했으면\n",
    "    except:\n",
    "        tv = ''\n",
    "    # 클릭\n",
    "    place.find_elements_by_css_selector('div > div > div.tit > span > a > span')[0].click()\n",
    "    # 활성창 변경\n",
    "    driver.switch_to_window(driver.window_handles[-1])\n",
    "    \n",
    "    \n",
    "    \n",
    "    data_dic['Store_name'].append(store_name)\n",
    "    data_dic['Review'].append(review)\n",
    "    data_dic['Category'].append(category)\n",
    "    data_dic['TV'].append(tv)"
   ]
  },
  {
   "cell_type": "code",
   "execution_count": 197,
   "metadata": {},
   "outputs": [
    {
     "ename": "IndexError",
     "evalue": "list index out of range",
     "output_type": "error",
     "traceback": [
      "\u001b[1;31m---------------------------------------------------------------------------\u001b[0m",
      "\u001b[1;31mIndexError\u001b[0m                                Traceback (most recent call last)",
      "\u001b[1;32m<ipython-input-197-5d8378b9834b>\u001b[0m in \u001b[0;36m<module>\u001b[1;34m\u001b[0m\n\u001b[1;32m----> 1\u001b[1;33m \u001b[0mplace\u001b[0m \u001b[1;33m=\u001b[0m \u001b[0mdriver\u001b[0m\u001b[1;33m.\u001b[0m\u001b[0mfind_elements_by_css_selector\u001b[0m\u001b[1;33m(\u001b[0m\u001b[1;34m'#container > div.placemap_area > div.list_wrapper > div > div.list_area > ul > li'\u001b[0m\u001b[1;33m)\u001b[0m\u001b[1;33m[\u001b[0m\u001b[1;36m1\u001b[0m\u001b[1;33m]\u001b[0m\u001b[1;33m\u001b[0m\u001b[1;33m\u001b[0m\u001b[0m\n\u001b[0m\u001b[0;32m      2\u001b[0m \u001b[0mplace\u001b[0m\u001b[1;33m.\u001b[0m\u001b[0mfind_elements_by_css_selector\u001b[0m\u001b[1;33m(\u001b[0m\u001b[1;34m'div > div > div.tit > span > a > span'\u001b[0m\u001b[1;33m)\u001b[0m\u001b[1;33m[\u001b[0m\u001b[1;36m0\u001b[0m\u001b[1;33m]\u001b[0m\u001b[1;33m.\u001b[0m\u001b[0mclick\u001b[0m\u001b[1;33m(\u001b[0m\u001b[1;33m)\u001b[0m\u001b[1;33m\u001b[0m\u001b[1;33m\u001b[0m\u001b[0m\n\u001b[0;32m      3\u001b[0m \u001b[0mdriver\u001b[0m\u001b[1;33m.\u001b[0m\u001b[0mswitch_to_window\u001b[0m\u001b[1;33m(\u001b[0m\u001b[0mdriver\u001b[0m\u001b[1;33m.\u001b[0m\u001b[0mwindow_handles\u001b[0m\u001b[1;33m[\u001b[0m\u001b[1;33m-\u001b[0m\u001b[1;36m1\u001b[0m\u001b[1;33m]\u001b[0m\u001b[1;33m)\u001b[0m\u001b[1;33m\u001b[0m\u001b[1;33m\u001b[0m\u001b[0m\n",
      "\u001b[1;31mIndexError\u001b[0m: list index out of range"
     ]
    }
   ],
   "source": [
    "place = driver.find_elements_by_css_selector('#container > div.placemap_area > div.list_wrapper > div > div.list_area > ul > li')[1]\n",
    "place.find_elements_by_css_selector('div > div > div.tit > span > a > span')[0].click()\n",
    "driver.switch_to_window(driver.window_handles[-1])"
   ]
  },
  {
   "cell_type": "code",
   "execution_count": 198,
   "metadata": {},
   "outputs": [
    {
     "data": {
      "text/plain": [
       "'02-568-1353'"
      ]
     },
     "execution_count": 198,
     "metadata": {},
     "output_type": "execute_result"
    }
   ],
   "source": [
    "driver.find_element_by_css_selector('div.list_item_biztel').text"
   ]
  },
  {
   "cell_type": "code",
   "execution_count": 199,
   "metadata": {},
   "outputs": [
    {
     "data": {
      "text/plain": [
       "'서울 강남구 테헤란로 142\\n지번역삼동 736-1 아크플레이스 2층지도보기'"
      ]
     },
     "execution_count": 199,
     "metadata": {},
     "output_type": "execute_result"
    }
   ],
   "source": [
    "driver.find_element_by_css_selector('div.list_item_address').text"
   ]
  },
  {
   "cell_type": "code",
   "execution_count": 200,
   "metadata": {},
   "outputs": [
    {
     "data": {
      "text/plain": [
       "'19,800원\\n대표\\n빌즈 리코타 핫케이크\\n24,000원\\n대표\\n풀오지\\n22,000원\\n치킨 시저 샐러드\\n24,000원\\n탈리아텔레 파스타\\n메뉴판(원산지) 이미지로 보기'"
      ]
     },
     "execution_count": 200,
     "metadata": {},
     "output_type": "execute_result"
    }
   ],
   "source": [
    "driver.find_element_by_css_selector('div.list_item_menu').text"
   ]
  },
  {
   "cell_type": "code",
   "execution_count": 201,
   "metadata": {},
   "outputs": [
    {
     "data": {
      "text/plain": [
       "'http://www.billskorea.com'"
      ]
     },
     "execution_count": 201,
     "metadata": {},
     "output_type": "execute_result"
    }
   ],
   "source": [
    "driver.find_element_by_css_selector('div.list_item_homepage > div > a').text"
   ]
  },
  {
   "cell_type": "code",
   "execution_count": 213,
   "metadata": {},
   "outputs": [
    {
     "data": {
      "text/plain": [
       "'http://www.instagram.com/billskorea'"
      ]
     },
     "execution_count": 213,
     "metadata": {},
     "output_type": "execute_result"
    }
   ],
   "source": [
    "instar = driver.find_elements_by_css_selector('div.list_item_homepage > div > ul > li > a.link')\n",
    "instar[0].get_attribute('href')"
   ]
  },
  {
   "cell_type": "code",
   "execution_count": 174,
   "metadata": {},
   "outputs": [
    {
     "data": {
      "text/plain": [
       "'단체석, 주차, 포장, 예약, 무선 인터넷, 남/녀 화장실 구분, 장애인 편의시설'"
      ]
     },
     "execution_count": 174,
     "metadata": {},
     "output_type": "execute_result"
    }
   ],
   "source": [
    "driver.find_element_by_css_selector('div.list_item_convenience').text"
   ]
  },
  {
   "cell_type": "code",
   "execution_count": 175,
   "metadata": {},
   "outputs": [
    {
     "data": {
      "text/plain": [
       "'*평일과 주말, 공휴일 모두 오후 1시부터 오후 2시 30분까지 예약을 받지 않습니다. 현장에서 최대한 빠르게 안내해드리겠습니다. 양해해 주셔서 감사합니다.\\n2019년 1월 1일부터 빌즈 잠실과 빌즈 광화문의 오픈 시간이 오전 8시에서 오전 9시로 변경됩니다. 빌즈 강남의 오픈 시간은 그대로 오전...'"
      ]
     },
     "execution_count": 175,
     "metadata": {},
     "output_type": "execute_result"
    }
   ],
   "source": [
    "driver.find_element_by_css_selector('div.list_item_desc').text"
   ]
  },
  {
   "cell_type": "code",
   "execution_count": 167,
   "metadata": {},
   "outputs": [],
   "source": [
    "driver.close()"
   ]
  },
  {
   "cell_type": "code",
   "execution_count": 168,
   "metadata": {},
   "outputs": [],
   "source": [
    "driver.switch_to_window(driver.window_handles[-1])"
   ]
  },
  {
   "cell_type": "code",
   "execution_count": 150,
   "metadata": {},
   "outputs": [
    {
     "data": {
      "text/plain": [
       "'https://store.naver.com/restaurants/detail?entry=ple&id=1019866860&query=%EB%B9%8C%EC%A6%88%20%EA%B0%95%EB%82%A8'"
      ]
     },
     "execution_count": 150,
     "metadata": {},
     "output_type": "execute_result"
    }
   ],
   "source": [
    "detail_link_str"
   ]
  },
  {
   "cell_type": "code",
   "execution_count": null,
   "metadata": {},
   "outputs": [],
   "source": []
  }
 ],
 "metadata": {
  "kernelspec": {
   "display_name": "Python 3",
   "language": "python",
   "name": "python3"
  },
  "language_info": {
   "codemirror_mode": {
    "name": "ipython",
    "version": 3
   },
   "file_extension": ".py",
   "mimetype": "text/x-python",
   "name": "python",
   "nbconvert_exporter": "python",
   "pygments_lexer": "ipython3",
   "version": "3.7.3"
  },
  "toc": {
   "base_numbering": 1,
   "nav_menu": {},
   "number_sections": true,
   "sideBar": true,
   "skip_h1_title": false,
   "title_cell": "Table of Contents",
   "title_sidebar": "Contents",
   "toc_cell": false,
   "toc_position": {},
   "toc_section_display": true,
   "toc_window_display": false
  }
 },
 "nbformat": 4,
 "nbformat_minor": 2
}
